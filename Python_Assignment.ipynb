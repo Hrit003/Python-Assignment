{
  "nbformat": 4,
  "nbformat_minor": 0,
  "metadata": {
    "colab": {
      "provenance": []
    },
    "kernelspec": {
      "name": "python3",
      "display_name": "Python 3"
    },
    "language_info": {
      "name": "python"
    }
  },
  "cells": [
    {
      "cell_type": "markdown",
      "source": [
        "#Python Assignments"
      ],
      "metadata": {
        "id": "WZX5jl5YbSWX"
      }
    },
    {
      "cell_type": "markdown",
      "source": [
        "##Theoritical Questions\n"
      ],
      "metadata": {
        "id": "skVzGIUFa9wo"
      }
    },
    {
      "cell_type": "markdown",
      "source": [
        "[1] **What is Python and why is it popular?**\n",
        "\n",
        "--> Python is a high-level, easy to learn, versatile and widely used programming language.\n",
        "\n",
        "--> It is popular because of:\n",
        "\n",
        "1.Easy to learn\n",
        "\n",
        "2.Free and open-source\n",
        "\n",
        "3.Simple syntax(easy to read/write)\n",
        "\n",
        "4.Efficient and multi-platform support.\n",
        "\n",
        "5.Huge collection of libraries, functions and modules.\n",
        "\n",
        "6.Big open source community.\n",
        "\n",
        "7.Integrates well with enterprise apps and systems.\n"
      ],
      "metadata": {
        "id": "DXf0yOAobeeo"
      }
    },
    {
      "cell_type": "markdown",
      "source": [
        "**[2] What is an Interpreter in Python?**\n",
        "\n",
        "-->An interpreter executes Python code line by line, converting it into machine languages so the computer can understand and run the code."
      ],
      "metadata": {
        "id": "BJtyGNagb5wo"
      }
    },
    {
      "cell_type": "markdown",
      "source": [
        "[3] **What are pre-defined keywords in Python?**\n",
        "\n",
        "--> Keywords are reserved words in Python that have special meaning and is used to define the syntax of language. These words cannot be used as variable names, functions and class names.\n",
        "\n",
        "Example: if,else,for,while,def, etc.\n",
        "\n",
        "[4] **Can keywords be used as variable names?**\n",
        "\n",
        "--> No, keywords cannot be used as variable names because they are reserved for specific functions in Python.\n",
        "\n",
        "[5] **What is mutibility in Python?**\n",
        "\n",
        "--> Mutability means whether a data type can be changed after creation.\n",
        "\n",
        "->Mutable: Can be changed(Ex: List)\n",
        "\n",
        "->Immutable: Cannot be changed(Ex: Tuple)\n",
        "\n",
        "[6] **why are lists mutable, but tuples are immutable?**\n",
        "\n",
        "-->Lists are mutable because their elements can be added, removed, or changed after creation.\n",
        "\n",
        "-->Tuples are immutable to protect their data from accidental modification.\n",
        "\n",
        "[7] **What is the difference between \"==\" and \"is\" operators in Python?**\n",
        "\n",
        "--> \"==\" is a Relational Operator and checks if values are equal.\n",
        "\n",
        "--> \"is\" is an Identity Operator and checks if both refer to the same object in memory.\n",
        "\n",
        "[8] **What are Logical Operators in Python?**\n",
        "\n",
        "--> Logical Operators are used to combine conditional statements.\n",
        "\n",
        "and: Gives return True if both the conditions are true.\n",
        "\n",
        "or: Gives return True if atleast one condition is true\n",
        "\n",
        "not: Reverses the result(True becomes False, false becomes True)\n",
        "\n",
        "[9] **What is Type Casting in Python?**\n",
        "\n",
        "--> Type Casting means converting one data type into another.\n",
        "\n",
        "->Example: int(\"10\") converts string \"10\" to integer 10.\n",
        "\n",
        "[10] **What is the difference between implicit and explicit type casting?**\n",
        "\n",
        "Implicit Casting: Done automatically by Python.\n",
        "\n",
        "Example: 5+2.0=7.0\n",
        "\n",
        "Explicit Casting: Done by the programmer.\n",
        "\n",
        "Example: int(5+7.8)=12\n",
        "\n",
        "[11] **What is the purpose of conditional statements in Python?**\n",
        "\n",
        "--> Conditional statements like if, elif, else are used to make decisions in a program based on certain conditions.\n",
        "\n",
        "[12] **How does the elif statement work?**\n",
        "\n",
        "--> elif means \"else if\". It checks another condition if the first if is False.\n",
        "\n",
        "[13] **What is the difference between for and while loop?**\n",
        "\n",
        "-->\n",
        "\n",
        "for loop: Repeats a known number of times(When we know how many times to run).\n",
        "\n",
        "while loop: Repeats while a condition is true, number of repetitions is not fixed.\n",
        "\n",
        "[14] **Describe a scenario where a while loop is more suitable than a for loop.**\n",
        "\n",
        "--> When creating a program that keeps asking user for input until they type \"exit\", we don't know how many time user will enter input. In a for loop, we need to know how many times to run the loop before it starts, which we don't know in this case. So, a while loop is better in this case."
      ],
      "metadata": {
        "id": "RPm8kD9jcnvn"
      }
    },
    {
      "cell_type": "markdown",
      "source": [
        "##Practical Questions"
      ],
      "metadata": {
        "id": "9i1n-tOndlFp"
      }
    },
    {
      "cell_type": "code",
      "source": [
        "# (1) Write a Python program to print \"Hello,World!\"\n",
        "print(\"Hello,World!\")"
      ],
      "metadata": {
        "colab": {
          "base_uri": "https://localhost:8080/"
        },
        "id": "GzD8Ni0Pd2Oh",
        "outputId": "b36b4565-d028-4e53-87b6-c7ef0c6ec319"
      },
      "execution_count": 1,
      "outputs": [
        {
          "output_type": "stream",
          "name": "stdout",
          "text": [
            "Hello,World!\n"
          ]
        }
      ]
    },
    {
      "cell_type": "code",
      "source": [
        "# (2)Write a Python program that displays your name and age\n",
        "Name=\"Hritesh\"\n",
        "Age=25\n",
        "print(f\"My name is {Name}\")\n",
        "print(f\"My age is {Age}\")"
      ],
      "metadata": {
        "colab": {
          "base_uri": "https://localhost:8080/"
        },
        "id": "g0629wYXeWPC",
        "outputId": "ec33d7b2-89cc-4ba7-b21f-c6c04904eac1"
      },
      "execution_count": 2,
      "outputs": [
        {
          "output_type": "stream",
          "name": "stdout",
          "text": [
            "My name is Hritesh\n",
            "My age is 25\n"
          ]
        }
      ]
    },
    {
      "cell_type": "code",
      "source": [
        "# (3)Write a code to print all the pre-defined keywords in Python using the keyword library.\n",
        "help(\"keywords\")"
      ],
      "metadata": {
        "colab": {
          "base_uri": "https://localhost:8080/"
        },
        "id": "tjbrKHwoeag0",
        "outputId": "69ed362d-541d-4ecb-a4cc-d2d0c2c722e9"
      },
      "execution_count": 3,
      "outputs": [
        {
          "output_type": "stream",
          "name": "stdout",
          "text": [
            "\n",
            "Here is a list of the Python keywords.  Enter any keyword to get more help.\n",
            "\n",
            "False               class               from                or\n",
            "None                continue            global              pass\n",
            "True                def                 if                  raise\n",
            "and                 del                 import              return\n",
            "as                  elif                in                  try\n",
            "assert              else                is                  while\n",
            "async               except              lambda              with\n",
            "await               finally             nonlocal            yield\n",
            "break               for                 not                 \n",
            "\n"
          ]
        }
      ]
    },
    {
      "cell_type": "code",
      "source": [
        "# (4)Write a program that checks if a given word is a Python keyword.\n",
        "word=input(\"Enter a word: \")\n",
        "import keyword\n",
        "if keyword.iskeyword(word):\n",
        "  print(f\"{word} is a keyword\")\n",
        "else:\n",
        "  print(f\"{word} is not a keyword\")\n"
      ],
      "metadata": {
        "colab": {
          "base_uri": "https://localhost:8080/"
        },
        "id": "JSUMXwZvegKR",
        "outputId": "119ca883-b6b0-4644-8989-45c14473bd3f"
      },
      "execution_count": 4,
      "outputs": [
        {
          "output_type": "stream",
          "name": "stdout",
          "text": [
            "Enter a word: if\n",
            "if is a keyword\n"
          ]
        }
      ]
    },
    {
      "cell_type": "code",
      "source": [
        "# (5) create a list and tuple in Python and demonstrate how attempting to change an element works differently\n",
        "# for each.\n",
        "my_list = [1, 2, 3, 4, 5]\n",
        "my_tuple = (1, 2, 3, 4, 5)\n",
        "my_list[0]=500\n",
        "print(my_list)"
      ],
      "metadata": {
        "colab": {
          "base_uri": "https://localhost:8080/"
        },
        "id": "omeZpOdaessK",
        "outputId": "8a8bcffb-65f9-4ad2-de1d-bfc95432fba8"
      },
      "execution_count": 6,
      "outputs": [
        {
          "output_type": "stream",
          "name": "stdout",
          "text": [
            "[500, 2, 3, 4, 5]\n"
          ]
        }
      ]
    },
    {
      "cell_type": "code",
      "source": [
        "#tuple is immutable. so we can't change an element of tuple\n",
        "my_tuple(1)=200\n",
        "print(my_tuple)"
      ],
      "metadata": {
        "colab": {
          "base_uri": "https://localhost:8080/",
          "height": 106
        },
        "id": "X8HGwX0we2FB",
        "outputId": "1a4a43e3-da71-4721-9f76-f343c75bebe4"
      },
      "execution_count": 7,
      "outputs": [
        {
          "output_type": "error",
          "ename": "SyntaxError",
          "evalue": "cannot assign to function call here. Maybe you meant '==' instead of '='? (ipython-input-7-318806418.py, line 2)",
          "traceback": [
            "\u001b[0;36m  File \u001b[0;32m\"/tmp/ipython-input-7-318806418.py\"\u001b[0;36m, line \u001b[0;32m2\u001b[0m\n\u001b[0;31m    my_tuple(1)=200\u001b[0m\n\u001b[0m    ^\u001b[0m\n\u001b[0;31mSyntaxError\u001b[0m\u001b[0;31m:\u001b[0m cannot assign to function call here. Maybe you meant '==' instead of '='?\n"
          ]
        }
      ]
    },
    {
      "cell_type": "code",
      "source": [
        "# (6) Write a function to demonstrate the behaviour of mutable and immutable arguments.\n",
        "def modify_list(First):\n",
        "  First.append(20)\n",
        "  print(\"Inside function(list): \", First)\n",
        "\n",
        "def modify_number(n):\n",
        "  n+=10\n",
        "  print(\"Inside function(number): \", n)\n",
        "\n",
        "my_list=[1,2,3]\n",
        "my_number=15\n",
        "modify_list(my_list)\n",
        "print(\"Outside function(list): \", my_list)\n",
        "modify_number(my_number)\n",
        "print(\"Outside function(number): \", my_number)"
      ],
      "metadata": {
        "colab": {
          "base_uri": "https://localhost:8080/"
        },
        "id": "FXLDqbiPe8L0",
        "outputId": "2c614c9e-a65c-46d3-9cb7-ee8dae437c05"
      },
      "execution_count": 10,
      "outputs": [
        {
          "output_type": "stream",
          "name": "stdout",
          "text": [
            "Inside function(list):  [1, 2, 3, 20]\n",
            "Outside function(list):  [1, 2, 3, 20]\n",
            "Inside function(number):  25\n",
            "Outside function(number):  15\n"
          ]
        }
      ]
    },
    {
      "cell_type": "code",
      "source": [
        "# (7) Write a programe that performs basic arithmetic operations on two user-input numbers.\n",
        "num1=int(input(\"Enter first number: \"))\n",
        "num2=int(input(\"Enter second number: \"))\n",
        "print(f\"Addition: {num1+num2}\")\n",
        "print(f\"Subtraction: {num1-num2}\")\n",
        "print(f\"Multiplication: {num1*num2}\")\n",
        "print(f\"Division: {num1/num2}\")"
      ],
      "metadata": {
        "colab": {
          "base_uri": "https://localhost:8080/"
        },
        "id": "DQaBUz9YfNDa",
        "outputId": "ed30cd04-03fb-4459-dfed-477839093a63"
      },
      "execution_count": 12,
      "outputs": [
        {
          "output_type": "stream",
          "name": "stdout",
          "text": [
            "Enter first number: 24\n",
            "Enter second number: 8\n",
            "Addition: 32\n",
            "Subtraction: 16\n",
            "Multiplication: 192\n",
            "Division: 3.0\n"
          ]
        }
      ]
    },
    {
      "cell_type": "code",
      "source": [
        "# (8) Write a program to demonstrate the use of logical operations.\n",
        "\n",
        "#input marks from user\n",
        "maths=int(input(\"Enter marks in Maths: \"))\n",
        "physics=int(input(\"Enter marks in Physics: \"))\n",
        "\n",
        "#Logocal AND: both subjects must be 40 or more to pass\n",
        "if maths>=40 and physics>=40:\n",
        "  print(\"Pass\")\n",
        "else:\n",
        "  print(\"Fail\")\n",
        "\n",
        "#Logical OR: atleast one subject must be 90 or more to win a prize.\n",
        "if maths>=90 or physics>=90:\n",
        "  print(\"You won a prize for great marks: \")\n",
        "else:\n",
        "  print(\"No prize\")"
      ],
      "metadata": {
        "colab": {
          "base_uri": "https://localhost:8080/"
        },
        "id": "V7i5CkJ1fbTK",
        "outputId": "1feb5919-3158-42b8-aa94-225466ac9f36"
      },
      "execution_count": 13,
      "outputs": [
        {
          "output_type": "stream",
          "name": "stdout",
          "text": [
            "Enter marks in Maths: 89\n",
            "Enter marks in Physics: 45\n",
            "Pass\n",
            "No prize\n"
          ]
        }
      ]
    },
    {
      "cell_type": "code",
      "source": [
        "# (9) Write a Python program to convert user input from string to integer, float and boolean types.\n",
        "user_input=input(\"Enter a number: \")\n",
        "integer_value=int(user_input)\n",
        "float_value=float(user_input)\n",
        "boolean_value=bool(user_input)\n",
        "print(\"Integer: \",integer_value)\n",
        "print(\"Float: \",float_value)\n",
        "print(\"Boolean: \",boolean_value)"
      ],
      "metadata": {
        "colab": {
          "base_uri": "https://localhost:8080/"
        },
        "id": "yj-tHwq_fmSD",
        "outputId": "b756fd7b-2087-487b-b003-54836f439db0"
      },
      "execution_count": 14,
      "outputs": [
        {
          "output_type": "stream",
          "name": "stdout",
          "text": [
            "Enter a number: 60\n",
            "Integer:  60\n",
            "Float:  60.0\n",
            "Boolean:  True\n"
          ]
        }
      ]
    },
    {
      "cell_type": "code",
      "source": [
        "# (10) Write code to demonstrate type casting with list elements.\n",
        "mixed_list=['1','2.5','True']\n",
        "int_value=int(mixed_list[0])\n",
        "float_value=float(mixed_list[1])\n",
        "boolean_value=bool(mixed_list[2])\n",
        "print(\"Integer: \",int_value)\n",
        "print(\"Float: \",float_value)\n",
        "print(\"Boolean: \",boolean_value)"
      ],
      "metadata": {
        "colab": {
          "base_uri": "https://localhost:8080/"
        },
        "id": "U1XMYRm6fwXT",
        "outputId": "3f4cf9cf-c26a-4336-f214-70d8126c8911"
      },
      "execution_count": 15,
      "outputs": [
        {
          "output_type": "stream",
          "name": "stdout",
          "text": [
            "Integer:  1\n",
            "Float:  2.5\n",
            "Boolean:  True\n"
          ]
        }
      ]
    },
    {
      "cell_type": "code",
      "source": [
        "# (11) Write a program that checks if a number is positive, negative or zero.\n",
        "Number=int(input(\"Enter a number: \"))\n",
        "if Number>0:\n",
        "  print(\"Number is positive\")\n",
        "elif Number<0:\n",
        "  print(\"Number is negative\")\n",
        "else:\n",
        "  print(\"Number is zero\")"
      ],
      "metadata": {
        "colab": {
          "base_uri": "https://localhost:8080/"
        },
        "id": "_yydaluQf0g6",
        "outputId": "535cfdc4-b1d1-45f1-9843-6679f9935b3b"
      },
      "execution_count": 16,
      "outputs": [
        {
          "output_type": "stream",
          "name": "stdout",
          "text": [
            "Enter a number: 26\n",
            "Number is positive\n"
          ]
        }
      ]
    },
    {
      "cell_type": "code",
      "source": [
        "# (12) Write a for loop to print numbers from 1 to 10.\n",
        "for i in range(1,11):\n",
        "  print(i)"
      ],
      "metadata": {
        "colab": {
          "base_uri": "https://localhost:8080/"
        },
        "id": "L4VJSf4bf9RD",
        "outputId": "92869789-3033-46cc-b362-872c7271f3aa"
      },
      "execution_count": 17,
      "outputs": [
        {
          "output_type": "stream",
          "name": "stdout",
          "text": [
            "1\n",
            "2\n",
            "3\n",
            "4\n",
            "5\n",
            "6\n",
            "7\n",
            "8\n",
            "9\n",
            "10\n"
          ]
        }
      ]
    },
    {
      "cell_type": "code",
      "source": [
        "# (13) Write a pyhton program to find the sum of all even numbers between 1 and 50.\n",
        "even_sum=0\n",
        "for i in range(2,51,2):\n",
        "  even_sum+=i\n",
        "print(\"Sum of even numbers from 1 to 50: \", even_sum)"
      ],
      "metadata": {
        "colab": {
          "base_uri": "https://localhost:8080/"
        },
        "id": "G1yhFP5IgBRa",
        "outputId": "0a72cf8c-9db3-4e0c-af3b-18fc428beceb"
      },
      "execution_count": 18,
      "outputs": [
        {
          "output_type": "stream",
          "name": "stdout",
          "text": [
            "Sum of even numbers from 1 to 50:  650\n"
          ]
        }
      ]
    },
    {
      "cell_type": "code",
      "source": [
        "# (14) write a program to reverse a string using a while loop.\n",
        "string=input(\"Enter a string: \")\n",
        "reversed_str=''\n",
        "i=len(string)-1\n",
        "while i>=0:\n",
        "  reversed_str+=string[i]\n",
        "  i-=1\n",
        "print(\"Reversed string: \", reversed_str)"
      ],
      "metadata": {
        "colab": {
          "base_uri": "https://localhost:8080/"
        },
        "id": "aTbB0AnVgGyy",
        "outputId": "5612ea58-17f3-4fb7-84e3-af0be766481b"
      },
      "execution_count": 19,
      "outputs": [
        {
          "output_type": "stream",
          "name": "stdout",
          "text": [
            "Enter a string: Hritesh\n",
            "Reversed string:  hsetirH\n"
          ]
        }
      ]
    },
    {
      "cell_type": "code",
      "source": [
        "# (15) Write a python program to calculate the factorial of a number provided by the user using while loop.\n",
        "num = int(input(\"Enter a number: \"))\n",
        "factorial = 1\n",
        "i = 1\n",
        "while i <= num:\n",
        "    factorial *= i\n",
        "    i += 1\n",
        "print(f\"The factorial of {num} is {factorial}\")"
      ],
      "metadata": {
        "colab": {
          "base_uri": "https://localhost:8080/"
        },
        "id": "3-7jO0JZgPEE",
        "outputId": "864cbc24-b784-4f36-f09b-5cbb47734d5d"
      },
      "execution_count": 20,
      "outputs": [
        {
          "output_type": "stream",
          "name": "stdout",
          "text": [
            "Enter a number: 17\n",
            "The factorial of 17 is 355687428096000\n"
          ]
        }
      ]
    }
  ]
}